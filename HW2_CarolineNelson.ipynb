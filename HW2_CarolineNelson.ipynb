{
 "cells": [
  {
   "cell_type": "markdown",
   "metadata": {},
   "source": [
    "# Homework 2\n",
    "\n",
    "### Caroline Nelson\n",
    "\n",
    "#### Approach:\n",
    "We are given a data set that consists of information about restaurants in New York City, and the goal of this homework is to use data frames and series from the pandas package to gain insight into this data.\n",
    "\n",
    "##### Q1: Create a unique name for each restaurant."
   ]
  },
  {
   "cell_type": "code",
   "execution_count": 1,
   "metadata": {
    "collapsed": false,
    "scrolled": true
   },
   "outputs": [
    {
     "name": "stderr",
     "output_type": "stream",
     "text": [
      "/Library/Frameworks/Python.framework/Versions/2.7/lib/python2.7/site-packages/matplotlib/font_manager.py:273: UserWarning: Matplotlib is building the font cache using fc-list. This may take a moment.\n",
      "  warnings.warn('Matplotlib is building the font cache using fc-list. This may take a moment.')\n"
     ]
    },
    {
     "name": "stdout",
     "output_type": "stream",
     "text": [
      "Populating the interactive namespace from numpy and matplotlib\n",
      "[\"WENDY'S 469 FLATBUSH AVENUE 11225\"\n",
      " 'TOV KOSHER KITCHEN 97-22 63 ROAD 11374'\n",
      " 'BRUNOS ON THE BOULEVARD 8825 ASTORIA BOULEVARD 11369'\n",
      " 'MAY MAY KITCHEN 1269 SUTTER AVENUE 11208'\n",
      " 'SEUDA FOODS 705 KINGS HIGHWAY 11223'\n",
      " 'CARVEL ICE CREAM 203 CHURCH AVENUE 11218'\n",
      " 'NORDIC DELICACIES 6909 3 AVENUE 11209'\n",
      " 'GLORIOUS FOOD 522 EAST   74 STREET 10021'\n",
      " 'THE MOVABLE FEAST 284 PROSPECT PARK WEST 11215'\n",
      " \"BULLY'S DELI 759 BROADWAY 10003\"]\n"
     ]
    }
   ],
   "source": [
    "from pandas import Series, DataFrame\n",
    "import pandas as pd\n",
    "# import matplotlib\n",
    "%pylab inline\n",
    "\n",
    "df=pd.read_csv('NYC_Restaurants.csv',dtype=unicode)\n",
    "\n",
    "#combine dba, building, street, and zipcode to create a 'RESTAURANT' column\n",
    "df['RESTAURANT']=df['DBA']+' '+df['BUILDING']+' '+df['STREET']+' '+df['ZIPCODE']\n",
    "print df['RESTAURANT'].unique()[:10]\n"
   ]
  },
  {
   "cell_type": "markdown",
   "metadata": {},
   "source": [
    "##### Q2: How many restaurants are in the data set?"
   ]
  },
  {
   "cell_type": "markdown",
   "metadata": {},
   "source": [
    "In order to figure out how many restaurants are in the data, we can drop the duplicates of the restaurant column, and find the length of that new series."
   ]
  },
  {
   "cell_type": "code",
   "execution_count": 3,
   "metadata": {
    "collapsed": false
   },
   "outputs": [
    {
     "name": "stdout",
     "output_type": "stream",
     "text": [
      "10114\n"
     ]
    }
   ],
   "source": [
    "rest=df['RESTAURANT'].drop_duplicates()\n",
    "#removes all duplicate restaurant names and addresses\n",
    "print len(rest)"
   ]
  },
  {
   "cell_type": "markdown",
   "metadata": {},
   "source": [
    "##### Q3: How many chains?"
   ]
  },
  {
   "cell_type": "markdown",
   "metadata": {},
   "source": [
    "For this question, we have to make sure we count accurately; first we drop duplicates of the restaurant set, like the first question.  This will give us a unique list of restaurants with their addresses.  A chain is defined by having the same restaurant (DBA) at more than one address.  The number of chains is the number of restaurants mapped to more than one DBA."
   ]
  },
  {
   "cell_type": "code",
   "execution_count": 3,
   "metadata": {
    "collapsed": false
   },
   "outputs": [
    {
     "name": "stdout",
     "output_type": "stream",
     "text": [
      "368\n"
     ]
    }
   ],
   "source": [
    "drop_rest=df.drop_duplicates(subset='RESTAURANT')\n",
    "#drops duplicate restaurant names while maintaining the rest of the data set\n",
    "mask=(drop_rest['DBA'].value_counts()>1)\n",
    "#A chain would have a DBA listed more than once after duplicate restaurants are removed\n",
    "chain=(drop_rest['DBA'].value_counts()[mask])\n",
    "print len(chain)"
   ]
  },
  {
   "cell_type": "markdown",
   "metadata": {},
   "source": [
    "##### Q4: Plot the top 20 chains."
   ]
  },
  {
   "cell_type": "markdown",
   "metadata": {},
   "source": [
    "We can take the series of chains we used in Q3, and simply plot."
   ]
  },
  {
   "cell_type": "code",
   "execution_count": 4,
   "metadata": {
    "collapsed": false
   },
   "outputs": [
    {
     "data": {
      "text/plain": [
       "<matplotlib.axes._subplots.AxesSubplot at 0x10441a510>"
      ]
     },
     "execution_count": 4,
     "metadata": {},
     "output_type": "execute_result"
    },
    {
     "data": {
      "image/png": "[encoded data removed]",
      "text/plain": [
       "<matplotlib.figure.Figure at 0x1043f9bd0>"
      ]
     },
     "metadata": {},
     "output_type": "display_data"
    }
   ],
   "source": [
    "chain[:20].plot(kind='bar')"
   ]
  },
  {
   "cell_type": "markdown",
   "metadata": {},
   "source": [
    "##### Q5: What percent of restaurants are chains?"
   ]
  },
  {
   "cell_type": "markdown",
   "metadata": {},
   "source": [
    "To find the percent of restaurants that are chains, we take the sum of the counts list in Q3 to find the total number of chains, and divide that by the number of total restaurants, after dropping duplicates."
   ]
  },
  {
   "cell_type": "code",
   "execution_count": 6,
   "metadata": {
    "collapsed": false
   },
   "outputs": [
    {
     "name": "stdout",
     "output_type": "stream",
     "text": [
      "Number of chains: 1666\n",
      "Number of restaurants: 10114\n",
      "Percent of restaurants that are chains: 16.4722167293 %\n"
     ]
    }
   ],
   "source": [
    "frac=float(sum(chain))/len(rest)\n",
    "#sum(chain) counts total restaurants that are chains from previous question\n",
    "print 'Number of chains:',sum(chain)\n",
    "print 'Number of restaurants:',len(rest)\n",
    "print 'Percent of restaurants that are chains:',frac*100,'%'"
   ]
  },
  {
   "cell_type": "markdown",
   "metadata": {},
   "source": [
    "##### Q6: Plot the number of non-chain restaurants in each borough."
   ]
  },
  {
   "cell_type": "markdown",
   "metadata": {},
   "source": [
    "To find the non-chains, we need the number of DBA's to be exactly one. Then, we have a list of non-chains, and can go through each DBA of the original data set and keep only those in the non-chains list.  Then, considering the 'Missing' borough, we can plot the number of non-chains per borough."
   ]
  },
  {
   "cell_type": "code",
   "execution_count": 10,
   "metadata": {
    "collapsed": false
   },
   "outputs": [
    {
     "name": "stderr",
     "output_type": "stream",
     "text": [
      "/Library/Frameworks/Python.framework/Versions/2.7/lib/python2.7/site-packages/ipykernel/__main__.py:13: UserWarning: Boolean Series key will be reindexed to match DataFrame index.\n"
     ]
    },
    {
     "data": {
      "text/plain": [
       "<matplotlib.axes._subplots.AxesSubplot at 0x107091050>"
      ]
     },
     "execution_count": 10,
     "metadata": {},
     "output_type": "execute_result"
    },
    {
     "data": {
      "image/png": "[encoded data removed]",
      "text/plain": [
       "<matplotlib.figure.Figure at 0x107347b90>"
      ]
     },
     "metadata": {},
     "output_type": "display_data"
    }
   ],
   "source": [
    "mask=(drop_rest['DBA'].value_counts()==1)\n",
    "#since chains had a value count>1, we need the rest to find non-chains\n",
    "#drop_rest is the data frame without duplicate restaurants in the restaurant column\n",
    "non_chain=(drop_rest['DBA'].value_counts()[mask])\n",
    "\n",
    "def check_in_nonchain(n):\n",
    "     return n in non_chain\n",
    "mask2=df['DBA'].map(check_in_nonchain)\n",
    "#if a DBA is in the list of nonchains, we keep it\n",
    "nonchain=df[mask2]\n",
    "mask3=(df['BORO']!=\"Missing\")\n",
    "#We need to consider boroughs that are \"Missing\"'''\n",
    "new_df=nonchain[['DBA','BORO']][mask3].drop_duplicates()['BORO'].value_counts()\n",
    "new_df.plot(kind='bar')\n",
    "#Now, looking at nonchains per borough, we count the number per borough and graph it.\n"
   ]
  },
  {
   "cell_type": "markdown",
   "metadata": {},
   "source": [
    "##### Q7: Plot the fraction of non-chain restaurants in each borough."
   ]
  },
  {
   "cell_type": "markdown",
   "metadata": {},
   "source": [
    "Using the information from Q6, we can use series division to divide by the total number of restaurants in each borough. We can see in this graph that though Manhattan has the largest number of non-chain restaurants, Brooklyn has the highest ratio of non-chains to total number of restaurants."
   ]
  },
  {
   "cell_type": "code",
   "execution_count": 11,
   "metadata": {
    "collapsed": false
   },
   "outputs": [
    {
     "data": {
      "text/plain": [
       "<matplotlib.axes._subplots.AxesSubplot at 0x1093ac510>"
      ]
     },
     "execution_count": 11,
     "metadata": {},
     "output_type": "execute_result"
    },
    {
     "data": {
      "image/png": "[encoded data removed]",
      "text/plain": [
       "<matplotlib.figure.Figure at 0x10707fe10>"
      ]
     },
     "metadata": {},
     "output_type": "display_data"
    }
   ],
   "source": [
    "frac=(new_df)/df[['RESTAURANT','BORO']][mask3].drop_duplicates()['BORO'].value_counts()\n",
    "#series division where mask3 takes away the 'missing' borough\n",
    "frac.plot(kind='bar')"
   ]
  },
  {
   "cell_type": "markdown",
   "metadata": {},
   "source": [
    "##### Q8: Popularity of cuisines"
   ]
  },
  {
   "cell_type": "markdown",
   "metadata": {},
   "source": [
    "Popularity of cuisine is defined by the number of restaurants, or number of unique DBA's affiliated with that cuisine type.  We can drop duplicates of the DBA name, since each DBA is mapped to the same cuisine description despite location."
   ]
  },
  {
   "cell_type": "code",
   "execution_count": 9,
   "metadata": {
    "collapsed": false
   },
   "outputs": [
    {
     "data": {
      "text/plain": [
       "<matplotlib.axes._subplots.AxesSubplot at 0x10423bf10>"
      ]
     },
     "execution_count": 9,
     "metadata": {},
     "output_type": "execute_result"
    },
    {
     "data": {
      "image/png": "[encoded data removed]",
      "text/plain": [
       "<matplotlib.figure.Figure at 0x104245490>"
      ]
     },
     "metadata": {},
     "output_type": "display_data"
    }
   ],
   "source": [
    "dropnames=df.drop_duplicates(subset='DBA')\n",
    "#Since we are looking at specific restaurant names despite location, we can drop duplicates of DBA\n",
    "dropnames['CUISINE DESCRIPTION'].value_counts()[:20].plot(kind='bar')"
   ]
  },
  {
   "cell_type": "markdown",
   "metadata": {
    "collapsed": true
   },
   "source": [
    "##### Q9: How many restaurants had no violations within each cuisine?"
   ]
  },
  {
   "cell_type": "markdown",
   "metadata": {},
   "source": [
    "To solve this problem, we need to know which restaurants never got cited.  Since this data set also deals with inspections, there are restaurants who may be cited once, but then not cited the next time they are inspected.  Once we have these restaurants, we can graph each restaurant divided among the cuisine types."
   ]
  },
  {
   "cell_type": "code",
   "execution_count": 12,
   "metadata": {
    "collapsed": false
   },
   "outputs": [
    {
     "data": {
      "text/plain": [
       "<matplotlib.axes._subplots.AxesSubplot at 0x109e05990>"
      ]
     },
     "execution_count": 12,
     "metadata": {},
     "output_type": "execute_result"
    },
    {
     "data": {
      "image/png": "[encoded data removed]",
      "text/plain": [
       "<matplotlib.figure.Figure at 0x109e4fe90>"
      ]
     },
     "metadata": {},
     "output_type": "display_data"
    }
   ],
   "source": [
    "#creates a list of restaurants with a violation code\n",
    "mask1=pd.notnull(df['VIOLATION CODE'])\n",
    "rest_viol_cuis_notnull=df[['RESTAURANT','CUISINE DESCRIPTION','VIOLATION CODE']][mask1]\n",
    "rest_viol_cuis_notnull=rest_viol_cuis_notnull.drop_duplicates(subset='RESTAURANT')\n",
    "not_null=rest_viol_cuis_notnull['RESTAURANT'].values\n",
    "#create a list of restaurants without a violation code\n",
    "mask2=pd.isnull(df['VIOLATION CODE'])\n",
    "rest_viol_cuis_isnull=df[['RESTAURANT','CUISINE DESCRIPTION','VIOLATION CODE']][mask2]\n",
    "rest_viol_cuis_isnull=rest_viol_cuis_isnull.drop_duplicates(subset='RESTAURANT')\n",
    "null=rest_viol_cuis_isnull['RESTAURANT'].values\n",
    "\n",
    "no_vio_list=[]\n",
    "#this list will have the final list of restaurants without a violation\n",
    "for i in null:\n",
    "    if i not in not_null:\n",
    "        no_vio_list.append(i)\n",
    "#this for loop takes every element in the null list, and looks to see if it is also in the not_null list\n",
    "#if it isn't, then we keep it\n",
    "mask3=rest_viol_cuis_isnull['RESTAURANT'].isin(no_vio_list)\n",
    "final=rest_viol_cuis_isnull[mask3]\n",
    "\n",
    "counts=final['CUISINE DESCRIPTION'].value_counts()\n",
    "counts[:20].plot(kind='bar')\n"
   ]
  },
  {
   "cell_type": "markdown",
   "metadata": {},
   "source": [
    "##### Q10: What cuisines tend to be the cleanest?"
   ]
  },
  {
   "cell_type": "markdown",
   "metadata": {},
   "source": [
    "We first have to find the cuisines with 20 or more restaurants affiliated with it, and then use the null data frame we selected from the previous problem to find the proportion of the number of restaurants of each cuisine without citations compared to total number of restaurants per cuisine."
   ]
  },
  {
   "cell_type": "code",
   "execution_count": 13,
   "metadata": {
    "collapsed": false
   },
   "outputs": [
    {
     "data": {
      "text/plain": [
       "<matplotlib.axes._subplots.AxesSubplot at 0x10929b150>"
      ]
     },
     "execution_count": 13,
     "metadata": {},
     "output_type": "execute_result"
    },
    {
     "data": {
      "image/png": "[encoded data removed]",
      "text/plain": [
       "<matplotlib.figure.Figure at 0x1092a55d0>"
      ]
     },
     "metadata": {},
     "output_type": "display_data"
    }
   ],
   "source": [
    "rest_cuis=drop_rest[['RESTAURANT','CUISINE DESCRIPTION']]\n",
    "#small dataframe of the important variables, and dropping duplicate restaurant names\n",
    "mask=(rest_cuis['CUISINE DESCRIPTION'].value_counts()>=20)\n",
    "#We want at least 20 restaurants representing these cuisines\n",
    "rest_cuis_counts=rest_cuis['CUISINE DESCRIPTION'].value_counts()[mask]\n",
    "#Counts how many restaurants per cuisine\n",
    "\n",
    "ratio=(rest_viol_cuis_isnull['CUISINE DESCRIPTION'].value_counts()/rest_cuis_counts)\n",
    "#Series division with rest_viol_cuis_isnull from previous problem\n",
    "ratio.sort_values(ascending=False)[:10].plot(kind='bar')\n",
    "#We wanted the highest ratio, so we plot in descending order"
   ]
  },
  {
   "cell_type": "markdown",
   "metadata": {},
   "source": [
    "##### Q11: What are the most common violations of each borough?"
   ]
  },
  {
   "cell_type": "markdown",
   "metadata": {},
   "source": [
    "Now, we are looking at violations in each borough.  We can make a crosstab table that captures the number of times each validation code appears in each borough."
   ]
  },
  {
   "cell_type": "code",
   "execution_count": 14,
   "metadata": {
    "collapsed": false
   },
   "outputs": [
    {
     "data": {
      "text/html": [
       "<div>\n",
       "<table border=\"1\" class=\"dataframe\">\n",
       "  <thead>\n",
       "    <tr style=\"text-align: right;\">\n",
       "      <th>BORO</th>\n",
       "      <th>BRONX</th>\n",
       "      <th>BROOKLYN</th>\n",
       "      <th>MANHATTAN</th>\n",
       "      <th>QUEENS</th>\n",
       "      <th>STATEN ISLAND</th>\n",
       "    </tr>\n",
       "    <tr>\n",
       "      <th>VIOLATION DESCRIPTION</th>\n",
       "      <th></th>\n",
       "      <th></th>\n",
       "      <th></th>\n",
       "      <th></th>\n",
       "      <th></th>\n",
       "    </tr>\n",
       "  </thead>\n",
       "  <tbody>\n",
       "    <tr>\n",
       "      <th>\u001aChoking first aid\u001a poster not posted. \u001aAlcohol and pregnancy\u001a warning sign not posted. Resuscitation equipment: exhaled air resuscitation masks (adult &amp; pediatric), latex gloves, sign not posted. Inspection report sign not posted.</th>\n",
       "      <td>12</td>\n",
       "      <td>40</td>\n",
       "      <td>49</td>\n",
       "      <td>29</td>\n",
       "      <td>5</td>\n",
       "    </tr>\n",
       "    <tr>\n",
       "      <th>''''No Smoking\u001a and/or 'Smoking Permitted\u001a sign not conspicuously posted. Health warning not present on 'Smoking Permitted\u001a</th>\n",
       "      <td>1</td>\n",
       "      <td>5</td>\n",
       "      <td>6</td>\n",
       "      <td>4</td>\n",
       "      <td>1</td>\n",
       "    </tr>\n",
       "    <tr>\n",
       "      <th>''''Wash hands\u001a sign not posted at hand wash facility.</th>\n",
       "      <td>21</td>\n",
       "      <td>57</td>\n",
       "      <td>93</td>\n",
       "      <td>60</td>\n",
       "      <td>8</td>\n",
       "    </tr>\n",
       "    <tr>\n",
       "      <th>A food containing artificial trans fat, with 0.5 grams or more of trans fat per serving, is being stored, distributed, held for service, used in preparation of a menu item, or served.</th>\n",
       "      <td>5</td>\n",
       "      <td>12</td>\n",
       "      <td>19</td>\n",
       "      <td>24</td>\n",
       "      <td>3</td>\n",
       "    </tr>\n",
       "    <tr>\n",
       "      <th>Accurate thermometer not provided in refrigerated or hot holding equipment.</th>\n",
       "      <td>21</td>\n",
       "      <td>76</td>\n",
       "      <td>98</td>\n",
       "      <td>92</td>\n",
       "      <td>16</td>\n",
       "    </tr>\n",
       "    <tr>\n",
       "      <th>Appropriately scaled metal stem-type thermometer or thermocouple not provided or used to evaluate temperatures of potentially hazardous foods during cooking, cooling, reheating and holding.</th>\n",
       "      <td>27</td>\n",
       "      <td>120</td>\n",
       "      <td>162</td>\n",
       "      <td>85</td>\n",
       "      <td>17</td>\n",
       "    </tr>\n",
       "    <tr>\n",
       "      <th>Ashtray present in smoke-free area.</th>\n",
       "      <td>4</td>\n",
       "      <td>4</td>\n",
       "      <td>5</td>\n",
       "      <td>8</td>\n",
       "      <td>1</td>\n",
       "    </tr>\n",
       "    <tr>\n",
       "      <th>Bulb not shielded or shatterproof, in areas where there is extreme heat, temperature changes, or where accidental contact may occur.</th>\n",
       "      <td>20</td>\n",
       "      <td>93</td>\n",
       "      <td>168</td>\n",
       "      <td>80</td>\n",
       "      <td>10</td>\n",
       "    </tr>\n",
       "    <tr>\n",
       "      <th>Caloric content not posted on menus, menu boards or food tags, in a food service establishment that is 1 of 15 or more outlets operating the same type of business nationally under common ownership or control, or as a franchise or doing business under the same name, for each menu item that is served in portions, the size and content of which are standardized.</th>\n",
       "      <td>0</td>\n",
       "      <td>4</td>\n",
       "      <td>6</td>\n",
       "      <td>5</td>\n",
       "      <td>1</td>\n",
       "    </tr>\n",
       "    <tr>\n",
       "      <th>Caloric content range (minimum to maximum) not posted on menus and or menu boards for each flavor, variety and size of each menu item that is offered for sale in different flavors, varieties and sizes.</th>\n",
       "      <td>0</td>\n",
       "      <td>0</td>\n",
       "      <td>0</td>\n",
       "      <td>1</td>\n",
       "      <td>0</td>\n",
       "    </tr>\n",
       "    <tr>\n",
       "      <th>Canned food product observed dented and not segregated from other consumable food items.</th>\n",
       "      <td>16</td>\n",
       "      <td>33</td>\n",
       "      <td>76</td>\n",
       "      <td>44</td>\n",
       "      <td>3</td>\n",
       "    </tr>\n",
       "    <tr>\n",
       "      <th>Canned food product observed swollen, leaking or rusted, and not segregated from other consumable food items .</th>\n",
       "      <td>0</td>\n",
       "      <td>2</td>\n",
       "      <td>2</td>\n",
       "      <td>1</td>\n",
       "      <td>0</td>\n",
       "    </tr>\n",
       "    <tr>\n",
       "      <th>Cold food item held above 41� F (smoked fish and reduced oxygen packaged foods above 38 �F) except during necessary preparation.</th>\n",
       "      <td>168</td>\n",
       "      <td>635</td>\n",
       "      <td>1232</td>\n",
       "      <td>621</td>\n",
       "      <td>118</td>\n",
       "    </tr>\n",
       "    <tr>\n",
       "      <th>Covered garbage receptacle not provided or inadequate, except that garbage receptacle may be uncovered during active use. Garbage storage area not properly constructed or maintained; grinder or compactor dirty.</th>\n",
       "      <td>7</td>\n",
       "      <td>35</td>\n",
       "      <td>65</td>\n",
       "      <td>24</td>\n",
       "      <td>4</td>\n",
       "    </tr>\n",
       "    <tr>\n",
       "      <th>Current letter grade card not posted.</th>\n",
       "      <td>22</td>\n",
       "      <td>61</td>\n",
       "      <td>176</td>\n",
       "      <td>51</td>\n",
       "      <td>15</td>\n",
       "    </tr>\n",
       "    <tr>\n",
       "      <th>Duties of an officer of the Department interfered with or obstructed.</th>\n",
       "      <td>2</td>\n",
       "      <td>3</td>\n",
       "      <td>2</td>\n",
       "      <td>1</td>\n",
       "      <td>0</td>\n",
       "    </tr>\n",
       "    <tr>\n",
       "      <th>Eggs found dirty/cracked; liquid, frozen or powdered eggs not pasteurized.</th>\n",
       "      <td>0</td>\n",
       "      <td>3</td>\n",
       "      <td>4</td>\n",
       "      <td>3</td>\n",
       "      <td>1</td>\n",
       "    </tr>\n",
       "    <tr>\n",
       "      <th>Evidence of mice or live mice present in facility's food and/or non-food areas.</th>\n",
       "      <td>313</td>\n",
       "      <td>937</td>\n",
       "      <td>1228</td>\n",
       "      <td>776</td>\n",
       "      <td>103</td>\n",
       "    </tr>\n",
       "    <tr>\n",
       "      <th>Evidence of rats or live rats present in facility's food and/or non-food areas.</th>\n",
       "      <td>40</td>\n",
       "      <td>93</td>\n",
       "      <td>133</td>\n",
       "      <td>42</td>\n",
       "      <td>4</td>\n",
       "    </tr>\n",
       "    <tr>\n",
       "      <th>Facility not vermin proof. Harborage or conditions conducive to attracting vermin to the premises and/or allowing vermin to exist.</th>\n",
       "      <td>452</td>\n",
       "      <td>1242</td>\n",
       "      <td>1890</td>\n",
       "      <td>1107</td>\n",
       "      <td>128</td>\n",
       "    </tr>\n",
       "    <tr>\n",
       "      <th>Failure to comply with an Order of the Board of Health, Commissioner, or Department.</th>\n",
       "      <td>2</td>\n",
       "      <td>6</td>\n",
       "      <td>8</td>\n",
       "      <td>0</td>\n",
       "      <td>0</td>\n",
       "    </tr>\n",
       "    <tr>\n",
       "      <th>Filth flies or food/refuse/sewage-associated (FRSA) flies present in facility\u001as food and/or non-food areas. Filth flies include house flies, little house flies, blow flies, bottle flies and flesh flies. Food/refuse/sewage-associated flies include fruit flies, drain flies and Phorid flies.</th>\n",
       "      <td>178</td>\n",
       "      <td>392</td>\n",
       "      <td>881</td>\n",
       "      <td>388</td>\n",
       "      <td>46</td>\n",
       "    </tr>\n",
       "    <tr>\n",
       "      <th>Flavored tobacco products sold or offered for sale.</th>\n",
       "      <td>4</td>\n",
       "      <td>6</td>\n",
       "      <td>4</td>\n",
       "      <td>5</td>\n",
       "      <td>0</td>\n",
       "    </tr>\n",
       "    <tr>\n",
       "      <th>Food Protection Certificate not held by supervisor of food operations.</th>\n",
       "      <td>90</td>\n",
       "      <td>238</td>\n",
       "      <td>297</td>\n",
       "      <td>230</td>\n",
       "      <td>33</td>\n",
       "    </tr>\n",
       "    <tr>\n",
       "      <th>Food allergy information poster not conspicuously posted where food is being prepared or processed by food workers.</th>\n",
       "      <td>2</td>\n",
       "      <td>16</td>\n",
       "      <td>14</td>\n",
       "      <td>7</td>\n",
       "      <td>0</td>\n",
       "    </tr>\n",
       "    <tr>\n",
       "      <th>Food allergy information poster not posted in language understood by all food workers.</th>\n",
       "      <td>0</td>\n",
       "      <td>0</td>\n",
       "      <td>2</td>\n",
       "      <td>1</td>\n",
       "      <td>0</td>\n",
       "    </tr>\n",
       "    <tr>\n",
       "      <th>Food contact surface improperly constructed or located. Unacceptable material used.</th>\n",
       "      <td>1</td>\n",
       "      <td>1</td>\n",
       "      <td>3</td>\n",
       "      <td>1</td>\n",
       "      <td>0</td>\n",
       "    </tr>\n",
       "    <tr>\n",
       "      <th>Food contact surface not properly maintained.</th>\n",
       "      <td>42</td>\n",
       "      <td>187</td>\n",
       "      <td>257</td>\n",
       "      <td>126</td>\n",
       "      <td>14</td>\n",
       "    </tr>\n",
       "    <tr>\n",
       "      <th>Food contact surface not properly washed, rinsed and sanitized after each use and following any activity when contamination may have occurred.</th>\n",
       "      <td>156</td>\n",
       "      <td>615</td>\n",
       "      <td>1203</td>\n",
       "      <td>619</td>\n",
       "      <td>119</td>\n",
       "    </tr>\n",
       "    <tr>\n",
       "      <th>Food from unapproved or unknown source or home canned. Reduced oxygen packaged (ROP) fish not frozen before processing; or ROP foods prepared on premises transported to another site.</th>\n",
       "      <td>2</td>\n",
       "      <td>25</td>\n",
       "      <td>22</td>\n",
       "      <td>11</td>\n",
       "      <td>1</td>\n",
       "    </tr>\n",
       "    <tr>\n",
       "      <th>...</th>\n",
       "      <td>...</td>\n",
       "      <td>...</td>\n",
       "      <td>...</td>\n",
       "      <td>...</td>\n",
       "      <td>...</td>\n",
       "    </tr>\n",
       "    <tr>\n",
       "      <th>Non-food contact surface improperly constructed. Unacceptable material used. Non-food contact surface or equipment improperly maintained and/or not properly sealed, raised, spaced or movable to allow accessibility for cleaning on all sides, above and underneath the unit.</th>\n",
       "      <td>500</td>\n",
       "      <td>1485</td>\n",
       "      <td>2417</td>\n",
       "      <td>1416</td>\n",
       "      <td>230</td>\n",
       "    </tr>\n",
       "    <tr>\n",
       "      <th>Notice of the Department of Board of Health mutilated, obstructed, or removed.</th>\n",
       "      <td>0</td>\n",
       "      <td>2</td>\n",
       "      <td>1</td>\n",
       "      <td>0</td>\n",
       "      <td>0</td>\n",
       "    </tr>\n",
       "    <tr>\n",
       "      <th>Nuisance created or allowed to exist. Facility not free from unsafe, hazardous, offensive or annoying conditions.</th>\n",
       "      <td>6</td>\n",
       "      <td>37</td>\n",
       "      <td>63</td>\n",
       "      <td>38</td>\n",
       "      <td>2</td>\n",
       "    </tr>\n",
       "    <tr>\n",
       "      <th>Operator failed to make good faith effort to inform smokers of the Smoke-free Act prohibition of smoking.</th>\n",
       "      <td>5</td>\n",
       "      <td>2</td>\n",
       "      <td>0</td>\n",
       "      <td>4</td>\n",
       "      <td>0</td>\n",
       "    </tr>\n",
       "    <tr>\n",
       "      <th>Original label for tobacco products sold or offered for sale.</th>\n",
       "      <td>0</td>\n",
       "      <td>2</td>\n",
       "      <td>4</td>\n",
       "      <td>3</td>\n",
       "      <td>0</td>\n",
       "    </tr>\n",
       "    <tr>\n",
       "      <th>Out-of package sale of tobacco products observed.</th>\n",
       "      <td>0</td>\n",
       "      <td>0</td>\n",
       "      <td>2</td>\n",
       "      <td>0</td>\n",
       "      <td>0</td>\n",
       "    </tr>\n",
       "    <tr>\n",
       "      <th>Permit not conspicuously displayed.</th>\n",
       "      <td>6</td>\n",
       "      <td>4</td>\n",
       "      <td>22</td>\n",
       "      <td>4</td>\n",
       "      <td>0</td>\n",
       "    </tr>\n",
       "    <tr>\n",
       "      <th>Personal cleanliness inadequate. Outer garment soiled with possible contaminant.  Effective hair restraint not worn in an area where food is prepared.</th>\n",
       "      <td>43</td>\n",
       "      <td>190</td>\n",
       "      <td>309</td>\n",
       "      <td>189</td>\n",
       "      <td>32</td>\n",
       "    </tr>\n",
       "    <tr>\n",
       "      <th>Pesticide use not in accordance with label or applicable laws. Prohibited chemical used/stored. Open bait station used.</th>\n",
       "      <td>41</td>\n",
       "      <td>147</td>\n",
       "      <td>186</td>\n",
       "      <td>140</td>\n",
       "      <td>20</td>\n",
       "    </tr>\n",
       "    <tr>\n",
       "      <th>Plumbing not properly installed or maintained; anti-siphonage or backflow prevention device not provided where required; equipment or floor not properly drained; sewage disposal system in disrepair or not functioning properly.</th>\n",
       "      <td>149</td>\n",
       "      <td>490</td>\n",
       "      <td>861</td>\n",
       "      <td>502</td>\n",
       "      <td>91</td>\n",
       "    </tr>\n",
       "    <tr>\n",
       "      <th>Potable water supply inadequate. Water or ice not potable or from unapproved source.  Cross connection in potable water supply system observed.</th>\n",
       "      <td>0</td>\n",
       "      <td>0</td>\n",
       "      <td>2</td>\n",
       "      <td>0</td>\n",
       "      <td>0</td>\n",
       "    </tr>\n",
       "    <tr>\n",
       "      <th>Precooked potentially hazardous food from commercial food processing establishment that is supposed to be heated, but is not heated to 140� F within 2 hours.</th>\n",
       "      <td>0</td>\n",
       "      <td>5</td>\n",
       "      <td>2</td>\n",
       "      <td>0</td>\n",
       "      <td>0</td>\n",
       "    </tr>\n",
       "    <tr>\n",
       "      <th>Proper sanitization not provided for utensil ware washing operation.</th>\n",
       "      <td>53</td>\n",
       "      <td>154</td>\n",
       "      <td>281</td>\n",
       "      <td>150</td>\n",
       "      <td>22</td>\n",
       "    </tr>\n",
       "    <tr>\n",
       "      <th>ROP processing equipment not approved by DOHMH.</th>\n",
       "      <td>0</td>\n",
       "      <td>1</td>\n",
       "      <td>2</td>\n",
       "      <td>1</td>\n",
       "      <td>0</td>\n",
       "    </tr>\n",
       "    <tr>\n",
       "      <th>Raw food not properly washed prior to serving.</th>\n",
       "      <td>0</td>\n",
       "      <td>0</td>\n",
       "      <td>0</td>\n",
       "      <td>1</td>\n",
       "      <td>0</td>\n",
       "    </tr>\n",
       "    <tr>\n",
       "      <th>Raw, cooked or prepared food is adulterated, contaminated, cross-contaminated, or not discarded in accordance with HACCP plan.</th>\n",
       "      <td>50</td>\n",
       "      <td>218</td>\n",
       "      <td>435</td>\n",
       "      <td>231</td>\n",
       "      <td>36</td>\n",
       "    </tr>\n",
       "    <tr>\n",
       "      <th>Sanitized equipment or utensil, including in-use food dispensing utensil, improperly used or stored.</th>\n",
       "      <td>48</td>\n",
       "      <td>195</td>\n",
       "      <td>410</td>\n",
       "      <td>283</td>\n",
       "      <td>45</td>\n",
       "    </tr>\n",
       "    <tr>\n",
       "      <th>Sewage disposal system improper or unapproved.</th>\n",
       "      <td>1</td>\n",
       "      <td>3</td>\n",
       "      <td>5</td>\n",
       "      <td>4</td>\n",
       "      <td>0</td>\n",
       "    </tr>\n",
       "    <tr>\n",
       "      <th>Shellfish not from approved source, improperly tagged/labeled; tags not retained for 90 days.</th>\n",
       "      <td>0</td>\n",
       "      <td>10</td>\n",
       "      <td>8</td>\n",
       "      <td>9</td>\n",
       "      <td>2</td>\n",
       "    </tr>\n",
       "    <tr>\n",
       "      <th>Single service item reused, improperly stored, dispensed; not used when required.</th>\n",
       "      <td>27</td>\n",
       "      <td>93</td>\n",
       "      <td>149</td>\n",
       "      <td>114</td>\n",
       "      <td>15</td>\n",
       "    </tr>\n",
       "    <tr>\n",
       "      <th>Smoke free workplace smoking policy inadequate, not posted, not provided to employees.</th>\n",
       "      <td>45</td>\n",
       "      <td>222</td>\n",
       "      <td>264</td>\n",
       "      <td>154</td>\n",
       "      <td>22</td>\n",
       "    </tr>\n",
       "    <tr>\n",
       "      <th>Thawing procedures improper.</th>\n",
       "      <td>36</td>\n",
       "      <td>109</td>\n",
       "      <td>151</td>\n",
       "      <td>100</td>\n",
       "      <td>23</td>\n",
       "    </tr>\n",
       "    <tr>\n",
       "      <th>The original nutritional fact labels and/or ingredient label for a cooking oil, shortening or margarine or food item sold in bulk, or acceptable manufacturer\u001as documentation not maintained on site.</th>\n",
       "      <td>48</td>\n",
       "      <td>125</td>\n",
       "      <td>198</td>\n",
       "      <td>151</td>\n",
       "      <td>25</td>\n",
       "    </tr>\n",
       "    <tr>\n",
       "      <th>Tobacco use, eating, or drinking from open container in food preparation, food storage or dishwashing area observed.</th>\n",
       "      <td>22</td>\n",
       "      <td>55</td>\n",
       "      <td>107</td>\n",
       "      <td>64</td>\n",
       "      <td>7</td>\n",
       "    </tr>\n",
       "    <tr>\n",
       "      <th>Toilet facility not maintained and provided with toilet paper, waste receptacle and self-closing door.</th>\n",
       "      <td>46</td>\n",
       "      <td>142</td>\n",
       "      <td>225</td>\n",
       "      <td>134</td>\n",
       "      <td>14</td>\n",
       "    </tr>\n",
       "    <tr>\n",
       "      <th>Toilet facility not provided for employees or for patrons when required.</th>\n",
       "      <td>2</td>\n",
       "      <td>3</td>\n",
       "      <td>11</td>\n",
       "      <td>3</td>\n",
       "      <td>1</td>\n",
       "    </tr>\n",
       "    <tr>\n",
       "      <th>Toilet facility used by women does not have at least one covered garbage receptacle.</th>\n",
       "      <td>1</td>\n",
       "      <td>5</td>\n",
       "      <td>7</td>\n",
       "      <td>2</td>\n",
       "      <td>1</td>\n",
       "    </tr>\n",
       "    <tr>\n",
       "      <th>Toxic chemical improperly labeled, stored or used such that food contamination may occur.</th>\n",
       "      <td>2</td>\n",
       "      <td>8</td>\n",
       "      <td>15</td>\n",
       "      <td>20</td>\n",
       "      <td>3</td>\n",
       "    </tr>\n",
       "    <tr>\n",
       "      <th>Unprotected food re-served.</th>\n",
       "      <td>1</td>\n",
       "      <td>0</td>\n",
       "      <td>1</td>\n",
       "      <td>0</td>\n",
       "      <td>0</td>\n",
       "    </tr>\n",
       "    <tr>\n",
       "      <th>Wiping cloths soiled or not stored in sanitizing solution.</th>\n",
       "      <td>47</td>\n",
       "      <td>198</td>\n",
       "      <td>285</td>\n",
       "      <td>168</td>\n",
       "      <td>25</td>\n",
       "    </tr>\n",
       "  </tbody>\n",
       "</table>\n",
       "<p>82 rows × 5 columns</p>\n",
       "</div>"
      ],
      "text/plain": [
       "BORO                                                BRONX  BROOKLYN  \\\n",
       "VIOLATION DESCRIPTION                                                 \n",
       "\u001aChoking first aid\u001a poster not posted. \u001aAlcohol...     12        40   \n",
       "''''No Smoking\u001a and/or 'Smoking Permitted\u001a sign...      1         5   \n",
       "''''Wash hands\u001a sign not posted at hand wash fa...     21        57   \n",
       "A food containing artificial trans fat, with 0....      5        12   \n",
       "Accurate thermometer not provided in refrigerat...     21        76   \n",
       "Appropriately scaled metal stem-type thermomete...     27       120   \n",
       "Ashtray present in smoke-free area.                     4         4   \n",
       "Bulb not shielded or shatterproof, in areas whe...     20        93   \n",
       "Caloric content not posted on menus, menu board...      0         4   \n",
       "Caloric content range (minimum to maximum) not ...      0         0   \n",
       "Canned food product observed dented and not seg...     16        33   \n",
       "Canned food product observed swollen, leaking o...      0         2   \n",
       "Cold food item held above 41� F (smoked fish an...    168       635   \n",
       "Covered garbage receptacle not provided or inad...      7        35   \n",
       "Current letter grade card not posted.                  22        61   \n",
       "Duties of an officer of the Department interfer...      2         3   \n",
       "Eggs found dirty/cracked; liquid, frozen or pow...      0         3   \n",
       "Evidence of mice or live mice present in facili...    313       937   \n",
       "Evidence of rats or live rats present in facili...     40        93   \n",
       "Facility not vermin proof. Harborage or conditi...    452      1242   \n",
       "Failure to comply with an Order of the Board of...      2         6   \n",
       "Filth flies or food/refuse/sewage-associated (F...    178       392   \n",
       "Flavored tobacco products sold or offered for s...      4         6   \n",
       "Food Protection Certificate not held by supervi...     90       238   \n",
       "Food allergy information poster not conspicuous...      2        16   \n",
       "Food allergy information poster not posted in l...      0         0   \n",
       "Food contact surface improperly constructed or ...      1         1   \n",
       "Food contact surface not properly maintained.          42       187   \n",
       "Food contact surface not properly washed, rinse...    156       615   \n",
       "Food from unapproved or unknown source or home ...      2        25   \n",
       "...                                                   ...       ...   \n",
       "Non-food contact surface improperly constructed...    500      1485   \n",
       "Notice of the Department of Board of Health mut...      0         2   \n",
       "Nuisance created or allowed to exist. Facility ...      6        37   \n",
       "Operator failed to make good faith effort to in...      5         2   \n",
       "Original label for tobacco products sold or off...      0         2   \n",
       "Out-of package sale of tobacco products observed.       0         0   \n",
       "Permit not conspicuously displayed.                     6         4   \n",
       "Personal cleanliness inadequate. Outer garment ...     43       190   \n",
       "Pesticide use not in accordance with label or a...     41       147   \n",
       "Plumbing not properly installed or maintained; ...    149       490   \n",
       "Potable water supply inadequate. Water or ice n...      0         0   \n",
       "Precooked potentially hazardous food from comme...      0         5   \n",
       "Proper sanitization not provided for utensil wa...     53       154   \n",
       "ROP processing equipment not approved by DOHMH.         0         1   \n",
       "Raw food not properly washed prior to serving.          0         0   \n",
       "Raw, cooked or prepared food is adulterated, co...     50       218   \n",
       "Sanitized equipment or utensil, including in-us...     48       195   \n",
       "Sewage disposal system improper or unapproved.          1         3   \n",
       "Shellfish not from approved source, improperly ...      0        10   \n",
       "Single service item reused, improperly stored, ...     27        93   \n",
       "Smoke free workplace smoking policy inadequate,...     45       222   \n",
       "Thawing procedures improper.                           36       109   \n",
       "The original nutritional fact labels and/or ing...     48       125   \n",
       "Tobacco use, eating, or drinking from open cont...     22        55   \n",
       "Toilet facility not maintained and provided wit...     46       142   \n",
       "Toilet facility not provided for employees or f...      2         3   \n",
       "Toilet facility used by women does not have at ...      1         5   \n",
       "Toxic chemical improperly labeled, stored or us...      2         8   \n",
       "Unprotected food re-served.                             1         0   \n",
       "Wiping cloths soiled or not stored in sanitizin...     47       198   \n",
       "\n",
       "BORO                                                MANHATTAN  QUEENS  \\\n",
       "VIOLATION DESCRIPTION                                                   \n",
       "\u001aChoking first aid\u001a poster not posted. \u001aAlcohol...         49      29   \n",
       "''''No Smoking\u001a and/or 'Smoking Permitted\u001a sign...          6       4   \n",
       "''''Wash hands\u001a sign not posted at hand wash fa...         93      60   \n",
       "A food containing artificial trans fat, with 0....         19      24   \n",
       "Accurate thermometer not provided in refrigerat...         98      92   \n",
       "Appropriately scaled metal stem-type thermomete...        162      85   \n",
       "Ashtray present in smoke-free area.                         5       8   \n",
       "Bulb not shielded or shatterproof, in areas whe...        168      80   \n",
       "Caloric content not posted on menus, menu board...          6       5   \n",
       "Caloric content range (minimum to maximum) not ...          0       1   \n",
       "Canned food product observed dented and not seg...         76      44   \n",
       "Canned food product observed swollen, leaking o...          2       1   \n",
       "Cold food item held above 41� F (smoked fish an...       1232     621   \n",
       "Covered garbage receptacle not provided or inad...         65      24   \n",
       "Current letter grade card not posted.                     176      51   \n",
       "Duties of an officer of the Department interfer...          2       1   \n",
       "Eggs found dirty/cracked; liquid, frozen or pow...          4       3   \n",
       "Evidence of mice or live mice present in facili...       1228     776   \n",
       "Evidence of rats or live rats present in facili...        133      42   \n",
       "Facility not vermin proof. Harborage or conditi...       1890    1107   \n",
       "Failure to comply with an Order of the Board of...          8       0   \n",
       "Filth flies or food/refuse/sewage-associated (F...        881     388   \n",
       "Flavored tobacco products sold or offered for s...          4       5   \n",
       "Food Protection Certificate not held by supervi...        297     230   \n",
       "Food allergy information poster not conspicuous...         14       7   \n",
       "Food allergy information poster not posted in l...          2       1   \n",
       "Food contact surface improperly constructed or ...          3       1   \n",
       "Food contact surface not properly maintained.             257     126   \n",
       "Food contact surface not properly washed, rinse...       1203     619   \n",
       "Food from unapproved or unknown source or home ...         22      11   \n",
       "...                                                       ...     ...   \n",
       "Non-food contact surface improperly constructed...       2417    1416   \n",
       "Notice of the Department of Board of Health mut...          1       0   \n",
       "Nuisance created or allowed to exist. Facility ...         63      38   \n",
       "Operator failed to make good faith effort to in...          0       4   \n",
       "Original label for tobacco products sold or off...          4       3   \n",
       "Out-of package sale of tobacco products observed.           2       0   \n",
       "Permit not conspicuously displayed.                        22       4   \n",
       "Personal cleanliness inadequate. Outer garment ...        309     189   \n",
       "Pesticide use not in accordance with label or a...        186     140   \n",
       "Plumbing not properly installed or maintained; ...        861     502   \n",
       "Potable water supply inadequate. Water or ice n...          2       0   \n",
       "Precooked potentially hazardous food from comme...          2       0   \n",
       "Proper sanitization not provided for utensil wa...        281     150   \n",
       "ROP processing equipment not approved by DOHMH.             2       1   \n",
       "Raw food not properly washed prior to serving.              0       1   \n",
       "Raw, cooked or prepared food is adulterated, co...        435     231   \n",
       "Sanitized equipment or utensil, including in-us...        410     283   \n",
       "Sewage disposal system improper or unapproved.              5       4   \n",
       "Shellfish not from approved source, improperly ...          8       9   \n",
       "Single service item reused, improperly stored, ...        149     114   \n",
       "Smoke free workplace smoking policy inadequate,...        264     154   \n",
       "Thawing procedures improper.                              151     100   \n",
       "The original nutritional fact labels and/or ing...        198     151   \n",
       "Tobacco use, eating, or drinking from open cont...        107      64   \n",
       "Toilet facility not maintained and provided wit...        225     134   \n",
       "Toilet facility not provided for employees or f...         11       3   \n",
       "Toilet facility used by women does not have at ...          7       2   \n",
       "Toxic chemical improperly labeled, stored or us...         15      20   \n",
       "Unprotected food re-served.                                 1       0   \n",
       "Wiping cloths soiled or not stored in sanitizin...        285     168   \n",
       "\n",
       "BORO                                                STATEN ISLAND  \n",
       "VIOLATION DESCRIPTION                                              \n",
       "\u001aChoking first aid\u001a poster not posted. \u001aAlcohol...              5  \n",
       "''''No Smoking\u001a and/or 'Smoking Permitted\u001a sign...              1  \n",
       "''''Wash hands\u001a sign not posted at hand wash fa...              8  \n",
       "A food containing artificial trans fat, with 0....              3  \n",
       "Accurate thermometer not provided in refrigerat...             16  \n",
       "Appropriately scaled metal stem-type thermomete...             17  \n",
       "Ashtray present in smoke-free area.                             1  \n",
       "Bulb not shielded or shatterproof, in areas whe...             10  \n",
       "Caloric content not posted on menus, menu board...              1  \n",
       "Caloric content range (minimum to maximum) not ...              0  \n",
       "Canned food product observed dented and not seg...              3  \n",
       "Canned food product observed swollen, leaking o...              0  \n",
       "Cold food item held above 41� F (smoked fish an...            118  \n",
       "Covered garbage receptacle not provided or inad...              4  \n",
       "Current letter grade card not posted.                          15  \n",
       "Duties of an officer of the Department interfer...              0  \n",
       "Eggs found dirty/cracked; liquid, frozen or pow...              1  \n",
       "Evidence of mice or live mice present in facili...            103  \n",
       "Evidence of rats or live rats present in facili...              4  \n",
       "Facility not vermin proof. Harborage or conditi...            128  \n",
       "Failure to comply with an Order of the Board of...              0  \n",
       "Filth flies or food/refuse/sewage-associated (F...             46  \n",
       "Flavored tobacco products sold or offered for s...              0  \n",
       "Food Protection Certificate not held by supervi...             33  \n",
       "Food allergy information poster not conspicuous...              0  \n",
       "Food allergy information poster not posted in l...              0  \n",
       "Food contact surface improperly constructed or ...              0  \n",
       "Food contact surface not properly maintained.                  14  \n",
       "Food contact surface not properly washed, rinse...            119  \n",
       "Food from unapproved or unknown source or home ...              1  \n",
       "...                                                           ...  \n",
       "Non-food contact surface improperly constructed...            230  \n",
       "Notice of the Department of Board of Health mut...              0  \n",
       "Nuisance created or allowed to exist. Facility ...              2  \n",
       "Operator failed to make good faith effort to in...              0  \n",
       "Original label for tobacco products sold or off...              0  \n",
       "Out-of package sale of tobacco products observed.               0  \n",
       "Permit not conspicuously displayed.                             0  \n",
       "Personal cleanliness inadequate. Outer garment ...             32  \n",
       "Pesticide use not in accordance with label or a...             20  \n",
       "Plumbing not properly installed or maintained; ...             91  \n",
       "Potable water supply inadequate. Water or ice n...              0  \n",
       "Precooked potentially hazardous food from comme...              0  \n",
       "Proper sanitization not provided for utensil wa...             22  \n",
       "ROP processing equipment not approved by DOHMH.                 0  \n",
       "Raw food not properly washed prior to serving.                  0  \n",
       "Raw, cooked or prepared food is adulterated, co...             36  \n",
       "Sanitized equipment or utensil, including in-us...             45  \n",
       "Sewage disposal system improper or unapproved.                  0  \n",
       "Shellfish not from approved source, improperly ...              2  \n",
       "Single service item reused, improperly stored, ...             15  \n",
       "Smoke free workplace smoking policy inadequate,...             22  \n",
       "Thawing procedures improper.                                   23  \n",
       "The original nutritional fact labels and/or ing...             25  \n",
       "Tobacco use, eating, or drinking from open cont...              7  \n",
       "Toilet facility not maintained and provided wit...             14  \n",
       "Toilet facility not provided for employees or f...              1  \n",
       "Toilet facility used by women does not have at ...              1  \n",
       "Toxic chemical improperly labeled, stored or us...              3  \n",
       "Unprotected food re-served.                                     0  \n",
       "Wiping cloths soiled or not stored in sanitizin...             25  \n",
       "\n",
       "[82 rows x 5 columns]"
      ]
     },
     "execution_count": 14,
     "metadata": {},
     "output_type": "execute_result"
    }
   ],
   "source": [
    "mask3=(df['BORO']!=\"Missing\")\n",
    "pivot=pd.crosstab(index=df['VIOLATION DESCRIPTION'][mask3],columns=df['BORO'])\n",
    "#Creates a table of values of number of times each violation description occurs in each borough.\n",
    "pivot\n"
   ]
  },
  {
   "cell_type": "code",
   "execution_count": 15,
   "metadata": {
    "collapsed": false
   },
   "outputs": [
    {
     "data": {
      "text/plain": [
       "BORO\n",
       "BRONX            Non-food contact surface improperly constructe...\n",
       "BROOKLYN         Non-food contact surface improperly constructe...\n",
       "MANHATTAN        Non-food contact surface improperly constructe...\n",
       "QUEENS           Non-food contact surface improperly constructe...\n",
       "STATEN ISLAND    Non-food contact surface improperly constructe...\n",
       "dtype: object"
      ]
     },
     "execution_count": 15,
     "metadata": {},
     "output_type": "execute_result"
    }
   ],
   "source": [
    "pivot.idxmax()\n",
    "#gives most common violation per borough"
   ]
  },
  {
   "cell_type": "markdown",
   "metadata": {},
   "source": [
    "##### Q12: What are the most common violations per borough, after normalizing for the relative abundance of each violation?\n",
    "The previous question did not consider the frequency at which each violation is committed, so now we need to normalize for violation frequency.\n"
   ]
  },
  {
   "cell_type": "code",
   "execution_count": 16,
   "metadata": {
    "collapsed": false
   },
   "outputs": [
    {
     "data": {
      "text/html": [
       "<div>\n",
       "<table border=\"1\" class=\"dataframe\">\n",
       "  <thead>\n",
       "    <tr style=\"text-align: right;\">\n",
       "      <th>BORO</th>\n",
       "      <th>MANHATTAN FREQ</th>\n",
       "      <th>BRONX FREQ</th>\n",
       "      <th>BROOKLYN FREQ</th>\n",
       "      <th>QUEENS FREQ</th>\n",
       "      <th>STATEN ISLAND FREQ</th>\n",
       "    </tr>\n",
       "    <tr>\n",
       "      <th>VIOLATION DESCRIPTION</th>\n",
       "      <th></th>\n",
       "      <th></th>\n",
       "      <th></th>\n",
       "      <th></th>\n",
       "      <th></th>\n",
       "    </tr>\n",
       "  </thead>\n",
       "  <tbody>\n",
       "    <tr>\n",
       "      <th>\u001aChoking first aid\u001a poster not posted. \u001aAlcohol and pregnancy\u001a warning sign not posted. Resuscitation equipment: exhaled air resuscitation masks (adult &amp; pediatric), latex gloves, sign not posted. Inspection report sign not posted.</th>\n",
       "      <td>0.362963</td>\n",
       "      <td>0.088889</td>\n",
       "      <td>0.296296</td>\n",
       "      <td>0.214815</td>\n",
       "      <td>0.037037</td>\n",
       "    </tr>\n",
       "    <tr>\n",
       "      <th>''''No Smoking\u001a and/or 'Smoking Permitted\u001a sign not conspicuously posted. Health warning not present on 'Smoking Permitted\u001a</th>\n",
       "      <td>0.352941</td>\n",
       "      <td>0.058824</td>\n",
       "      <td>0.294118</td>\n",
       "      <td>0.235294</td>\n",
       "      <td>0.058824</td>\n",
       "    </tr>\n",
       "    <tr>\n",
       "      <th>''''Wash hands\u001a sign not posted at hand wash facility.</th>\n",
       "      <td>0.389121</td>\n",
       "      <td>0.087866</td>\n",
       "      <td>0.238494</td>\n",
       "      <td>0.251046</td>\n",
       "      <td>0.033473</td>\n",
       "    </tr>\n",
       "    <tr>\n",
       "      <th>A food containing artificial trans fat, with 0.5 grams or more of trans fat per serving, is being stored, distributed, held for service, used in preparation of a menu item, or served.</th>\n",
       "      <td>0.301587</td>\n",
       "      <td>0.079365</td>\n",
       "      <td>0.190476</td>\n",
       "      <td>0.380952</td>\n",
       "      <td>0.047619</td>\n",
       "    </tr>\n",
       "    <tr>\n",
       "      <th>Accurate thermometer not provided in refrigerated or hot holding equipment.</th>\n",
       "      <td>0.323432</td>\n",
       "      <td>0.069307</td>\n",
       "      <td>0.250825</td>\n",
       "      <td>0.303630</td>\n",
       "      <td>0.052805</td>\n",
       "    </tr>\n",
       "    <tr>\n",
       "      <th>Appropriately scaled metal stem-type thermometer or thermocouple not provided or used to evaluate temperatures of potentially hazardous foods during cooking, cooling, reheating and holding.</th>\n",
       "      <td>0.394161</td>\n",
       "      <td>0.065693</td>\n",
       "      <td>0.291971</td>\n",
       "      <td>0.206813</td>\n",
       "      <td>0.041363</td>\n",
       "    </tr>\n",
       "    <tr>\n",
       "      <th>Ashtray present in smoke-free area.</th>\n",
       "      <td>0.227273</td>\n",
       "      <td>0.181818</td>\n",
       "      <td>0.181818</td>\n",
       "      <td>0.363636</td>\n",
       "      <td>0.045455</td>\n",
       "    </tr>\n",
       "    <tr>\n",
       "      <th>Bulb not shielded or shatterproof, in areas where there is extreme heat, temperature changes, or where accidental contact may occur.</th>\n",
       "      <td>0.452830</td>\n",
       "      <td>0.053908</td>\n",
       "      <td>0.250674</td>\n",
       "      <td>0.215633</td>\n",
       "      <td>0.026954</td>\n",
       "    </tr>\n",
       "    <tr>\n",
       "      <th>Caloric content not posted on menus, menu boards or food tags, in a food service establishment that is 1 of 15 or more outlets operating the same type of business nationally under common ownership or control, or as a franchise or doing business under the same name, for each menu item that is served in portions, the size and content of which are standardized.</th>\n",
       "      <td>0.375000</td>\n",
       "      <td>0.000000</td>\n",
       "      <td>0.250000</td>\n",
       "      <td>0.312500</td>\n",
       "      <td>0.062500</td>\n",
       "    </tr>\n",
       "    <tr>\n",
       "      <th>Caloric content range (minimum to maximum) not posted on menus and or menu boards for each flavor, variety and size of each menu item that is offered for sale in different flavors, varieties and sizes.</th>\n",
       "      <td>0.000000</td>\n",
       "      <td>0.000000</td>\n",
       "      <td>0.000000</td>\n",
       "      <td>1.000000</td>\n",
       "      <td>0.000000</td>\n",
       "    </tr>\n",
       "  </tbody>\n",
       "</table>\n",
       "</div>"
      ],
      "text/plain": [
       "BORO                                                MANHATTAN FREQ  \\\n",
       "VIOLATION DESCRIPTION                                                \n",
       "\u001aChoking first aid\u001a poster not posted. \u001aAlcohol...        0.362963   \n",
       "''''No Smoking\u001a and/or 'Smoking Permitted\u001a sign...        0.352941   \n",
       "''''Wash hands\u001a sign not posted at hand wash fa...        0.389121   \n",
       "A food containing artificial trans fat, with 0....        0.301587   \n",
       "Accurate thermometer not provided in refrigerat...        0.323432   \n",
       "Appropriately scaled metal stem-type thermomete...        0.394161   \n",
       "Ashtray present in smoke-free area.                       0.227273   \n",
       "Bulb not shielded or shatterproof, in areas whe...        0.452830   \n",
       "Caloric content not posted on menus, menu board...        0.375000   \n",
       "Caloric content range (minimum to maximum) not ...        0.000000   \n",
       "\n",
       "BORO                                                BRONX FREQ  BROOKLYN FREQ  \\\n",
       "VIOLATION DESCRIPTION                                                           \n",
       "\u001aChoking first aid\u001a poster not posted. \u001aAlcohol...    0.088889       0.296296   \n",
       "''''No Smoking\u001a and/or 'Smoking Permitted\u001a sign...    0.058824       0.294118   \n",
       "''''Wash hands\u001a sign not posted at hand wash fa...    0.087866       0.238494   \n",
       "A food containing artificial trans fat, with 0....    0.079365       0.190476   \n",
       "Accurate thermometer not provided in refrigerat...    0.069307       0.250825   \n",
       "Appropriately scaled metal stem-type thermomete...    0.065693       0.291971   \n",
       "Ashtray present in smoke-free area.                   0.181818       0.181818   \n",
       "Bulb not shielded or shatterproof, in areas whe...    0.053908       0.250674   \n",
       "Caloric content not posted on menus, menu board...    0.000000       0.250000   \n",
       "Caloric content range (minimum to maximum) not ...    0.000000       0.000000   \n",
       "\n",
       "BORO                                                QUEENS FREQ  \\\n",
       "VIOLATION DESCRIPTION                                             \n",
       "\u001aChoking first aid\u001a poster not posted. \u001aAlcohol...     0.214815   \n",
       "''''No Smoking\u001a and/or 'Smoking Permitted\u001a sign...     0.235294   \n",
       "''''Wash hands\u001a sign not posted at hand wash fa...     0.251046   \n",
       "A food containing artificial trans fat, with 0....     0.380952   \n",
       "Accurate thermometer not provided in refrigerat...     0.303630   \n",
       "Appropriately scaled metal stem-type thermomete...     0.206813   \n",
       "Ashtray present in smoke-free area.                    0.363636   \n",
       "Bulb not shielded or shatterproof, in areas whe...     0.215633   \n",
       "Caloric content not posted on menus, menu board...     0.312500   \n",
       "Caloric content range (minimum to maximum) not ...     1.000000   \n",
       "\n",
       "BORO                                                STATEN ISLAND FREQ  \n",
       "VIOLATION DESCRIPTION                                                   \n",
       "\u001aChoking first aid\u001a poster not posted. \u001aAlcohol...            0.037037  \n",
       "''''No Smoking\u001a and/or 'Smoking Permitted\u001a sign...            0.058824  \n",
       "''''Wash hands\u001a sign not posted at hand wash fa...            0.033473  \n",
       "A food containing artificial trans fat, with 0....            0.047619  \n",
       "Accurate thermometer not provided in refrigerat...            0.052805  \n",
       "Appropriately scaled metal stem-type thermomete...            0.041363  \n",
       "Ashtray present in smoke-free area.                           0.045455  \n",
       "Bulb not shielded or shatterproof, in areas whe...            0.026954  \n",
       "Caloric content not posted on menus, menu board...            0.062500  \n",
       "Caloric content range (minimum to maximum) not ...            0.000000  "
      ]
     },
     "execution_count": 16,
     "metadata": {},
     "output_type": "execute_result"
    }
   ],
   "source": [
    "q12_norm=pivot.copy()\n",
    "#makes a copy of the previous pivot table\n",
    "\n",
    "#The below calculations take the counts of each violation per borough, and divides them by the frequency of each violation overall.\n",
    "q12_norm['violationFrequency']=q12_norm['BRONX']+q12_norm['MANHATTAN']+q12_norm['BROOKLYN']+q12_norm['QUEENS']+q12_norm['STATEN ISLAND']\n",
    "q12_norm['MANHATTAN FREQ']=q12_norm['MANHATTAN']/q12_norm['violationFrequency']\n",
    "q12_norm['BRONX FREQ']=q12_norm['BRONX']/q12_norm['violationFrequency']\n",
    "q12_norm['BROOKLYN FREQ']=q12_norm['BROOKLYN']/q12_norm['violationFrequency']\n",
    "q12_norm['QUEENS FREQ']=q12_norm['QUEENS']/q12_norm['violationFrequency']\n",
    "q12_norm['STATEN ISLAND FREQ']=q12_norm['STATEN ISLAND']/q12_norm['violationFrequency']\n",
    "\n",
    "q12_norm=q12_norm[['MANHATTAN FREQ','BRONX FREQ','BROOKLYN FREQ','QUEENS FREQ','STATEN ISLAND FREQ']]\n",
    "q12_norm[:10]\n"
   ]
  },
  {
   "cell_type": "code",
   "execution_count": 17,
   "metadata": {
    "collapsed": false
   },
   "outputs": [
    {
     "data": {
      "text/plain": [
       "BORO\n",
       "MANHATTAN FREQ        Out-of package sale of tobacco products observed.\n",
       "BRONX FREQ                                  Unprotected food re-served.\n",
       "BROOKLYN FREQ         Precooked potentially hazardous food from comm...\n",
       "QUEENS FREQ           Caloric content range (minimum to maximum) not...\n",
       "STATEN ISLAND FREQ    Eggs found dirty/cracked; liquid, frozen or po...\n",
       "dtype: object"
      ]
     },
     "execution_count": 17,
     "metadata": {},
     "output_type": "execute_result"
    }
   ],
   "source": [
    "q12_norm.idxmax()\n",
    "#Despite what the previous problem said, these are the most common violations in each borough."
   ]
  },
  {
   "cell_type": "markdown",
   "metadata": {},
   "source": [
    "##### Q13: Find the number of area codes associated with one zipcode."
   ]
  },
  {
   "cell_type": "markdown",
   "metadata": {},
   "source": [
    "In order to solve this problem, we have to first extract the area code from each phone number.  Then, we can create a pivot table that tells us at which zipcode each area code occurs how many times.  We can find the area codes that are only mentioned once in the table, and count how many there are. "
   ]
  },
  {
   "cell_type": "code",
   "execution_count": 18,
   "metadata": {
    "collapsed": false
   },
   "outputs": [
    {
     "name": "stderr",
     "output_type": "stream",
     "text": [
      "/Library/Frameworks/Python.framework/Versions/2.7/lib/python2.7/site-packages/ipykernel/__main__.py:3: SettingWithCopyWarning: \n",
      "A value is trying to be set on a copy of a slice from a DataFrame.\n",
      "Try using .loc[row_indexer,col_indexer] = value instead\n",
      "\n",
      "See the caveats in the documentation: http://pandas.pydata.org/pandas-docs/stable/indexing.html#indexing-view-versus-copy\n",
      "  app.launch_new_instance()\n"
     ]
    },
    {
     "name": "stdout",
     "output_type": "stream",
     "text": [
      "ZIPCODE   10001  10002  10003  10004  10005  10006  10007  10009  10010  \\\n",
      "areacode                                                                  \n",
      "0           0.0    0.0    0.0    0.0    0.0    0.0    0.0    0.0    0.0   \n",
      "171         0.0    0.0    0.0    0.0    0.0    0.0    0.0    0.0    0.0   \n",
      "175         0.0    0.0    0.0    0.0    0.0    0.0    0.0    0.0    0.0   \n",
      "191         0.0    0.0    0.0    0.0    0.0    0.0    0.0    0.0    0.0   \n",
      "201         1.0    0.0    0.0    0.0    0.0    0.0    0.0    0.0    1.0   \n",
      "202         0.0    0.0    0.0    0.0    0.0    0.0    0.0    0.0    0.0   \n",
      "206         0.0    0.0    0.0    1.0    0.0    0.0    0.0    0.0    0.0   \n",
      "212         1.0    1.0    1.0    1.0    1.0    1.0    1.0    1.0    1.0   \n",
      "215         0.0    0.0    1.0    0.0    0.0    0.0    0.0    0.0    0.0   \n",
      "270         0.0    0.0    0.0    0.0    0.0    0.0    0.0    0.0    0.0   \n",
      "\n",
      "ZIPCODE   10011  ...   11434  11435  11436  11691  11692  11693  11694  11697  \\\n",
      "areacode         ...                                                            \n",
      "0           0.0  ...     0.0    0.0    0.0    0.0    0.0    0.0    0.0    0.0   \n",
      "171         0.0  ...     0.0    0.0    0.0    0.0    0.0    0.0    0.0    0.0   \n",
      "175         0.0  ...     0.0    0.0    0.0    0.0    0.0    0.0    0.0    0.0   \n",
      "191         1.0  ...     0.0    0.0    0.0    0.0    0.0    0.0    0.0    0.0   \n",
      "201         0.0  ...     0.0    0.0    0.0    0.0    0.0    0.0    0.0    0.0   \n",
      "202         0.0  ...     0.0    0.0    0.0    0.0    0.0    0.0    0.0    0.0   \n",
      "206         0.0  ...     0.0    0.0    0.0    0.0    0.0    0.0    0.0    0.0   \n",
      "212         1.0  ...     0.0    0.0    0.0    0.0    0.0    0.0    0.0    0.0   \n",
      "215         0.0  ...     0.0    0.0    0.0    0.0    0.0    0.0    0.0    0.0   \n",
      "270         0.0  ...     0.0    0.0    0.0    0.0    0.0    0.0    0.0    0.0   \n",
      "\n",
      "ZIPCODE   7606   All  \n",
      "areacode              \n",
      "0          0.0   1.0  \n",
      "171        0.0   1.0  \n",
      "175        0.0   1.0  \n",
      "191        0.0   1.0  \n",
      "201        0.0  11.0  \n",
      "202        0.0   1.0  \n",
      "206        0.0   1.0  \n",
      "212        0.0  65.0  \n",
      "215        0.0   4.0  \n",
      "270        0.0   2.0  \n",
      "\n",
      "[10 rows x 195 columns]\n",
      "34\n"
     ]
    }
   ],
   "source": [
    "def get_firstthree(s):\n",
    "    return s[0:3]\n",
    "drop_rest['areacode']=drop_rest['PHONE'].map(get_firstthree)\n",
    "#gets first three digits from each phone number\n",
    "areacode_zip=drop_rest[['areacode','ZIPCODE']].copy()\n",
    "areacode_zip['COUNT']=1\n",
    "#this column is used to create a pivot table\n",
    "#each area code and zip code combination occurs at least once\n",
    "areacode_zip=areacode_zip.drop_duplicates()\n",
    "\n",
    "pivot13=pd.pivot_table(areacode_zip,index='areacode',columns='ZIPCODE',values='COUNT',aggfunc=sum,fill_value=0,margins=True)\n",
    "print pivot13[:10]\n",
    "pivot13=pivot13[['All']]\n",
    "#We want the total count of each area code across the zip codes\n",
    "print len(pivot13[pivot13.All==1])\n",
    "#34"
   ]
  },
  {
   "cell_type": "markdown",
   "metadata": {},
   "source": [
    "##### Q14: Find common misspellings of street names."
   ]
  },
  {
   "cell_type": "markdown",
   "metadata": {},
   "source": [
    "First, we create 'Street type' and 'Street base' columns."
   ]
  },
  {
   "cell_type": "code",
   "execution_count": 19,
   "metadata": {
    "collapsed": false
   },
   "outputs": [],
   "source": [
    "#create 'Street type' and 'Street base' columns\n",
    "def street_type(s):\n",
    "    names=s.split()\n",
    "    if len(names[-1])==1:\n",
    "        return 'NULL'\n",
    "    else:\n",
    "        return names[-1].upper()\n",
    "def street_base(s):\n",
    "    base=s.split()\n",
    "    return (' ').join(base[0:-1])\n",
    "\n",
    "df['STREET TYPE']=df['STREET'].map(street_type)\n",
    "df['STREET BASE']=df['STREET'].map(street_base)\n"
   ]
  },
  {
   "cell_type": "markdown",
   "metadata": {},
   "source": [
    "Then, we can create the 'Street base & zip' column, and create a data frame with the three new columns. Accounting for the missing base values, we merge the dataframe on itself (had some trouble with this computer producing output with the merge function).  Then we can find where the street types are different for the same street base & zip, and create a table of only different street types to find the most common substitute."
   ]
  },
  {
   "cell_type": "code",
   "execution_count": null,
   "metadata": {
    "collapsed": false
   },
   "outputs": [],
   "source": [
    "df['STREET BASE & ZIP']=df['STREET BASE']+' '+df['ZIPCODE']\n",
    "df['STREET BASE & ZIP']=df['STREET BASE & ZIP'].drop_duplicates()\n",
    "orig=df[['STREET BASE & ZIP','STREET BASE','STREET TYPE']]\n",
    "mask=(orig['STREET BASE']!='')\n",
    "#this mask removes empty base rows\n",
    "orig=orig[mask]\n",
    "\n",
    "#merge the table with itself\n",
    "merged=pd.merge(orig,orig,on='STREET BASE & ZIP')\n",
    "\n",
    "#mask the different forms of the same street type\n",
    "mask=(merged['STREET TYPE_x']!=merged['STREET TYPE_y'])\n",
    "merged2=merged[mask]\n",
    "\n",
    "#creates a table that matches up street types and the number of each combination\n",
    "table=pd.crosstab(merged2['STREET TYPE_x'],merged2['STREET TYPE_y'])\n",
    "table[:10]\n"
   ]
  },
  {
   "cell_type": "code",
   "execution_count": null,
   "metadata": {
    "collapsed": false
   },
   "outputs": [],
   "source": [
    "print 'AVE most commonly went with:',table['AVE'].idxmax()\n",
    "print 'ST most commonly went with: ',table['ST'].idxmax()\n",
    "print 'RD most commonly went with: ',table['RD'].idxmax()\n",
    "print 'PL most commonly went with: ',table['PL'].idxmax()\n",
    "print 'BOULEARD most commonly went with: ',table['BOULEARD'].idxmax()\n",
    "print 'BULEVARD most commonly went with: ',table['BULEVARD'].idxmax()"
   ]
  }
 ],
 "metadata": {
  "celltoolbar": "Edit Metadata",
  "kernelspec": {
   "display_name": "Python 2",
   "language": "python",
   "name": "python2"
  },
  "language_info": {
   "codemirror_mode": {
    "name": "ipython",
    "version": 2
   },
   "file_extension": ".py",
   "mimetype": "text/x-python",
   "name": "python",
   "nbconvert_exporter": "python",
   "pygments_lexer": "ipython2",
   "version": "2.7.12"
  }
 },
 "nbformat": 4,
 "nbformat_minor": 0
}
